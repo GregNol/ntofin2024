{
 "cells": [
  {
   "cell_type": "markdown",
   "id": "fc711c3b",
   "metadata": {},
   "source": [
    "## Предисловие"
   ]
  },
  {
   "cell_type": "markdown",
   "id": "bn0XdjnJZwDB",
   "metadata": {
    "id": "bn0XdjnJZwDB"
   },
   "source": [
    "Ученик Алексей по факту программист-аналитик, но в душе художник. И считает, что мало проанализировать, необходимо еще и представить это так, чтобы результаты анализа были наглядными и понятними всем.\n",
    "\n",
    "Помоги Алексею создать идеальную комбинацию аналитики экономических данных и визуализации результатов. Двигайся по шагам в файле, внимательно изучай теорию, последовательно запускай код и решай задания, дописывая недостающий фрагменты.\n",
    "\n",
    "\n",
    "\n"
   ]
  },
  {
   "cell_type": "markdown",
   "id": "04ee2426",
   "metadata": {
    "id": "04ee2426"
   },
   "source": [
    "<a id=\"chapter1\"></a>\n",
    "\n",
    "# Генерация данных"
   ]
  },
  {
   "cell_type": "markdown",
   "id": "a22506d5",
   "metadata": {
    "id": "a22506d5"
   },
   "source": [
    "Сложно создать идеальный пример аналитики данных без данных :\\)\n",
    "Алексей решил создать свою собственную выборку экономических данных для 1000 фирм.\n",
    "\n",
    "Для этого Алексею понадобится (1) работать с форматом данных **csv** и (2) генератор случайных чисел и соответствуюзие библиотеки (1) **`csv`** и (2) **`random`**.\n",
    "\n",
    "Подключи их с помощью ключевого слова `import`."
   ]
  },
  {
   "cell_type": "code",
   "execution_count": 39,
   "id": "7fd659db",
   "metadata": {
    "ExecuteTime": {
     "end_time": "2023-12-08T14:55:49.241159Z",
     "start_time": "2023-12-08T14:55:49.222171Z"
    },
    "id": "7fd659db"
   },
   "outputs": [],
   "source": [
    "import csv\n",
    "import random"
   ]
  },
  {
   "cell_type": "markdown",
   "id": "819369d4",
   "metadata": {
    "id": "FL4msiDYfOat"
   },
   "source": [
    "Далее нам нужен запуск генератора случайных чисел для создания выборки. Не забудь предварительно настроить функцию `random.seed()`.\n",
    "\n",
    "**Python random.seed()**:\n",
    "\n",
    "<blockquote>Функция `random.seed()` предназначена для инициализации случайных чисел. Если передать генератору случайных чисел некое начальное число, то при запуске программы ты каждый раз будешь получать один и тот же результат. Т.е. создашь предсказуемый генератор случайных чисел.</blockquote>\n",
    "\n",
    "<blockquote>Для того, чтобы в этом задании все получилось как надо, перед генерацией запусти функцию с начальным значением 42 - `random.seed(42)`. </blockquote>\n",
    "\n",
    "<blockquote> *ВАЖНО: Обрати внимание на начальное значение, если у тебя оно будут другим, то результаты анализа данных в будущем могут не сойтись.*</blockquote>"
   ]
  },
  {
   "cell_type": "code",
   "execution_count": 40,
   "id": "b0ee9acb",
   "metadata": {
    "ExecuteTime": {
     "end_time": "2023-12-08T14:55:49.921604Z",
     "start_time": "2023-12-08T14:55:49.914605Z"
    },
    "id": "b0ee9acb"
   },
   "outputs": [],
   "source": [
    "# Не меняйте код в этой ячейке!\n",
    "# Задаем seed для воспроизводимости результатов\n",
    "random.seed(42)"
   ]
  },
  {
   "cell_type": "markdown",
   "id": "d04777d3",
   "metadata": {
    "id": "d04777d3"
   },
   "source": [
    "В нашей экономической выборке Алексей хочет хранить следующие сведения:\n",
    "\n",
    "- Год основания фирмы (от 1990 до 2020).\n",
    "- Годовая выручка фирмы (в диапазоне от 100,000 до 10,000,000).\n",
    "- Количество сотрудников в фирме (от 10 до 500).\n",
    "\n",
    "Данные удобно хранить в списках, которые могут быть созданы заранее. Подробнее о списках - [почитать тут](https://pythonworld.ru/tipy-dannyx-v-python/spiski-list-funkcii-i-metody-spiskov.html)\n",
    "\n",
    "Заведи под эти сведения пустые списки."
   ]
  },
  {
   "cell_type": "code",
   "execution_count": 41,
   "id": "224b3c91",
   "metadata": {
    "ExecuteTime": {
     "end_time": "2023-12-08T14:55:50.604868Z",
     "start_time": "2023-12-08T14:55:50.600682Z"
    },
    "id": "224b3c91"
   },
   "outputs": [],
   "source": [
    "# Создаем пустые списки для данных\n",
    "# здесь ваш код\n",
    "years = []\n",
    "earnings = []\n",
    "workers = []"
   ]
  },
  {
   "cell_type": "markdown",
   "id": "d58bff96",
   "metadata": {
    "id": "d58bff96"
   },
   "source": [
    "Итак, генерируем случайные данные для 1000 фирм. Генерация данных осуществляется с помощью библиотеки `random` и метода `randint()`. Для добавления параметров в списки используй метод `.append()`."
   ]
  },
  {
   "cell_type": "markdown",
   "id": "b54f546e",
   "metadata": {},
   "source": [
    "<a id='task1'></a>\n",
    "\n",
    "### Задача №1 "
   ]
  },
  {
   "cell_type": "markdown",
   "id": "2dbacc82",
   "metadata": {},
   "source": [
    "Допиши фрагмент кода для генерации данных годовой выручки фирмы и количества сотрудников по образцу списка `year` (год основания фирмы).\n",
    "\n",
    "*ВАЖНО: Обрати внимание на указанные диапазоны, если у тебя они будут другие, то результаты анализа данных в будущем могут не сойтись.*"
   ]
  },
  {
   "cell_type": "markdown",
   "id": "dc4e473b",
   "metadata": {},
   "source": [
    "<hr style=\"border:1px solid red;\">\n",
    "<a id='solve1'></a>\n",
    "\n",
    "###  Решение "
   ]
  },
  {
   "cell_type": "code",
   "execution_count": 42,
   "id": "7c0a3060",
   "metadata": {
    "ExecuteTime": {
     "end_time": "2023-12-08T14:55:52.257545Z",
     "start_time": "2023-12-08T14:55:52.242547Z"
    },
    "id": "7c0a3060"
   },
   "outputs": [],
   "source": [
    "# Генерируем случайные данные для 1000 фирм\n",
    "\n",
    "for _ in range(1000):\n",
    "    # Год основания фирмы (от 1990 до 2020)\n",
    "    year = random.randint(1990, 2020)\n",
    "    years.append(year)\n",
    "    earning = random.randint(100000, 10000000)\n",
    "    earnings.append(earning)\n",
    "    work = random.randint(10, 500)\n",
    "    workers.append(work)\n",
    "    # Допиши фрагмент кода для генерации данных по образцу выше\n",
    "    # Годовая выручка фирмы (в диапазоне от 100000 до 10000000)\n",
    "\n",
    "\n",
    "    # Количество сотрудников в фирме (от 10 до 500)"
   ]
  },
  {
   "cell_type": "markdown",
   "id": "08fca408",
   "metadata": {},
   "source": [
    "<hr style=\"border:1px solid red;\">"
   ]
  },
  {
   "cell_type": "markdown",
   "id": "iHvAA2qglLuR",
   "metadata": {
    "id": "iHvAA2qglLuR"
   },
   "source": [
    "Далее данные необходимо разместить в файле формата csv.\n",
    "\n",
    "___CSV___ (от англ. Comma-Separated Values — значения, разделённые запятыми) - это текстовый файл с \"таблицей\" внутри.\n",
    "\n",
    "Каждая строчка файла - это как строчка таблицы. А значения строки по столбцам разделены запятой (или точкой с запятой для некоторых версий).\n",
    "\n",
    "Пример CSV-файла:\n",
    "\n",
    "```\n",
    "Номер, Год, Страна\n",
    "1, 2023, Россия\n",
    "```\n",
    "\n",
    "После открытия csv-файла в табличных редакторах, или после импорта его содержания в структуру данных мы увидим следующую картину:\n",
    "\n",
    "| Номер    | Год      | Страна   |\n",
    "|----------|----------|----------|\n",
    "| 1        | 2023     | Россия   |\n",
    "\n",
    "\n",
    "В коде ниже посмотрите, как необходимо указать названия столбцов и передать их для записи в файл.\n",
    "Выполните код и оцените результат.\n",
    "\n",
    "*В случае возникновения ошибки из-за несовпадений кодировок, можно заменить первую строку блока на <br>`with open('economic_data.csv', 'w', newline='', encoding=\"utf-8\") as csvfile:`*"
   ]
  },
  {
   "cell_type": "markdown",
   "id": "f1840400",
   "metadata": {},
   "source": [
    "<a id=\"task2\"></a>\n",
    "\n",
    "### Задача №2: сгенерированные экономический данные для 1000 фирм, сохранить в файле __csv__ "
   ]
  },
  {
   "cell_type": "markdown",
   "id": "ab174189",
   "metadata": {},
   "source": [
    "<a id=\"solve2\"></a>\n",
    "<hr style=\"border:1px solid red;\">\n",
    "\n",
    "###  Решение "
   ]
  },
  {
   "cell_type": "code",
   "execution_count": 43,
   "id": "c7523d77",
   "metadata": {
    "ExecuteTime": {
     "end_time": "2023-12-08T14:55:53.952954Z",
     "start_time": "2023-12-08T14:55:53.932951Z"
    },
    "id": "c7523d77"
   },
   "outputs": [],
   "source": [
    "with open('economic_data.csv', 'w', newline='', encoding=\"utf-8\") as csvfile:\n",
    "    writer = csv.writer(csvfile)\n",
    "    writer.writerow(['Год основания', 'Годовая выручка', 'Количество сотрудников'])\n",
    "    for i in range(1000):\n",
    "        writer.writerow([years[i], earnings[i], workers[i]])\n"
   ]
  },
  {
   "cell_type": "markdown",
   "id": "9136931e",
   "metadata": {},
   "source": [
    "<hr style=\"border:1px solid red;\">"
   ]
  },
  {
   "cell_type": "markdown",
   "id": "4a31f29c",
   "metadata": {
    "id": "4a31f29c"
   },
   "source": [
    "Для более удобной работы, после сохранения данных формате .csv следует преобразовать их в датафрейм используя бибилиотеку `pandas`.\n",
    "\n",
    "___Библиотека Pandas и датафреймы___\n",
    "\n",
    "___Pandas___ — это Python-библиотека, созданная специально для отображения, анализа и обработки структурированных данных.\n",
    "\n",
    "Название библиотеки расшифровывается как «panel data» или «панельные данные». Панельные данные - это как раз данные, представленные в виде таблиц и имеющие четкую структуру (структурированные).\n",
    "\n",
    "У библиотеки есть официальный сайт, на котором описано, как можно начать работу с этой библиотекой - [почитать тут](https://pandas.pydata.org/getting_started.html).\n",
    "\n",
    "___Датафреймы___ (тип данных ___DataFrame___ из библиотеки Pandas) — это таблица со строками и столбцами, которая похожий на таблицу из приложения Excel. В это типе данных мы сможем разместить данные их нашего csv-файла и потом их обрабатывать: сортировать, группировать, производить вычисления.\n",
    "\n",
    "Начнем работу с этой библиотекой с ее импорта в файл проекта ` import pandas `.\n",
    "\n",
    "Для более краткого обращения к библиотеке из кода проекта указываем короткое имя `pd` - ` import pandas as pd `.\n",
    "\n",
    "Прочитаем содержимое датафрейма в переменную `df`, используя функцию `pd.read_csv('economic_data.csv')`.\n",
    "\n",
    "Обратите внимание, что для доступа к функции `pd.read_csv()` мы сначала указываем краткое имя библиотеки, а в качестве аргумента - имя csv-файла, в котором размещен датафрейм."
   ]
  },
  {
   "cell_type": "code",
   "execution_count": 44,
   "id": "1cffa0ac",
   "metadata": {
    "ExecuteTime": {
     "end_time": "2023-12-08T14:55:54.977182Z",
     "start_time": "2023-12-08T14:55:54.953194Z"
    },
    "id": "1cffa0ac"
   },
   "outputs": [],
   "source": [
    "import pandas as pd\n",
    "df = pd.read_csv('economic_data.csv')"
   ]
  },
  {
   "cell_type": "markdown",
   "id": "XjvvFJ3JP0tB",
   "metadata": {
    "id": "XjvvFJ3JP0tB"
   },
   "source": [
    "Проверим, что все загрузилось правильно, и выведем первые 5 записей датафрейма."
   ]
  },
  {
   "cell_type": "code",
   "execution_count": 45,
   "id": "75d1b0a2",
   "metadata": {
    "ExecuteTime": {
     "end_time": "2023-12-08T14:55:55.646131Z",
     "start_time": "2023-12-08T14:55:55.622132Z"
    },
    "id": "75d1b0a2",
    "outputId": "5afb4bc7-4015-4326-8b73-fd67d25b25cb"
   },
   "outputs": [
    {
     "data": {
      "text/html": [
       "<div>\n",
       "<style scoped>\n",
       "    .dataframe tbody tr th:only-of-type {\n",
       "        vertical-align: middle;\n",
       "    }\n",
       "\n",
       "    .dataframe tbody tr th {\n",
       "        vertical-align: top;\n",
       "    }\n",
       "\n",
       "    .dataframe thead th {\n",
       "        text-align: right;\n",
       "    }\n",
       "</style>\n",
       "<table border=\"1\" class=\"dataframe\">\n",
       "  <thead>\n",
       "    <tr style=\"text-align: right;\">\n",
       "      <th></th>\n",
       "      <th>Год основания</th>\n",
       "      <th>Годовая выручка</th>\n",
       "      <th>Количество сотрудников</th>\n",
       "    </tr>\n",
       "  </thead>\n",
       "  <tbody>\n",
       "    <tr>\n",
       "      <th>0</th>\n",
       "      <td>2010</td>\n",
       "      <td>1967825</td>\n",
       "      <td>22</td>\n",
       "    </tr>\n",
       "    <tr>\n",
       "      <th>1</th>\n",
       "      <td>2013</td>\n",
       "      <td>4714226</td>\n",
       "      <td>135</td>\n",
       "    </tr>\n",
       "    <tr>\n",
       "      <th>2</th>\n",
       "      <td>1997</td>\n",
       "      <td>2441057</td>\n",
       "      <td>387</td>\n",
       "    </tr>\n",
       "    <tr>\n",
       "      <th>3</th>\n",
       "      <td>1993</td>\n",
       "      <td>9249732</td>\n",
       "      <td>54</td>\n",
       "    </tr>\n",
       "    <tr>\n",
       "      <th>4</th>\n",
       "      <td>2008</td>\n",
       "      <td>7178673</td>\n",
       "      <td>26</td>\n",
       "    </tr>\n",
       "  </tbody>\n",
       "</table>\n",
       "</div>"
      ],
      "text/plain": [
       "   Год основания  Годовая выручка  Количество сотрудников\n",
       "0           2010          1967825                      22\n",
       "1           2013          4714226                     135\n",
       "2           1997          2441057                     387\n",
       "3           1993          9249732                      54\n",
       "4           2008          7178673                      26"
      ]
     },
     "execution_count": 45,
     "metadata": {},
     "output_type": "execute_result"
    }
   ],
   "source": [
    "df.head()"
   ]
  },
  {
   "cell_type": "markdown",
   "id": "Wnz8qbFOP52i",
   "metadata": {
    "id": "Wnz8qbFOP52i"
   },
   "source": [
    "Теперь давайте выведем описание прочтенных данных.\n",
    "\n",
    "Функции, которые могут пригодиться при решении: `.describe()`"
   ]
  },
  {
   "cell_type": "code",
   "execution_count": 46,
   "id": "-l7Fg_03P7wV",
   "metadata": {
    "ExecuteTime": {
     "end_time": "2023-12-08T14:55:56.426628Z",
     "start_time": "2023-12-08T14:55:56.405637Z"
    },
    "id": "-l7Fg_03P7wV"
   },
   "outputs": [
    {
     "data": {
      "text/html": [
       "<div>\n",
       "<style scoped>\n",
       "    .dataframe tbody tr th:only-of-type {\n",
       "        vertical-align: middle;\n",
       "    }\n",
       "\n",
       "    .dataframe tbody tr th {\n",
       "        vertical-align: top;\n",
       "    }\n",
       "\n",
       "    .dataframe thead th {\n",
       "        text-align: right;\n",
       "    }\n",
       "</style>\n",
       "<table border=\"1\" class=\"dataframe\">\n",
       "  <thead>\n",
       "    <tr style=\"text-align: right;\">\n",
       "      <th></th>\n",
       "      <th>Год основания</th>\n",
       "      <th>Годовая выручка</th>\n",
       "      <th>Количество сотрудников</th>\n",
       "    </tr>\n",
       "  </thead>\n",
       "  <tbody>\n",
       "    <tr>\n",
       "      <th>count</th>\n",
       "      <td>1000.000000</td>\n",
       "      <td>1.000000e+03</td>\n",
       "      <td>1000.000000</td>\n",
       "    </tr>\n",
       "    <tr>\n",
       "      <th>mean</th>\n",
       "      <td>2005.195000</td>\n",
       "      <td>5.163602e+06</td>\n",
       "      <td>255.978000</td>\n",
       "    </tr>\n",
       "    <tr>\n",
       "      <th>std</th>\n",
       "      <td>8.837708</td>\n",
       "      <td>2.886140e+06</td>\n",
       "      <td>139.048402</td>\n",
       "    </tr>\n",
       "    <tr>\n",
       "      <th>min</th>\n",
       "      <td>1990.000000</td>\n",
       "      <td>1.068100e+05</td>\n",
       "      <td>11.000000</td>\n",
       "    </tr>\n",
       "    <tr>\n",
       "      <th>25%</th>\n",
       "      <td>1998.000000</td>\n",
       "      <td>2.664074e+06</td>\n",
       "      <td>139.000000</td>\n",
       "    </tr>\n",
       "    <tr>\n",
       "      <th>50%</th>\n",
       "      <td>2005.000000</td>\n",
       "      <td>5.221975e+06</td>\n",
       "      <td>252.500000</td>\n",
       "    </tr>\n",
       "    <tr>\n",
       "      <th>75%</th>\n",
       "      <td>2013.000000</td>\n",
       "      <td>7.709056e+06</td>\n",
       "      <td>371.000000</td>\n",
       "    </tr>\n",
       "    <tr>\n",
       "      <th>max</th>\n",
       "      <td>2020.000000</td>\n",
       "      <td>9.995027e+06</td>\n",
       "      <td>500.000000</td>\n",
       "    </tr>\n",
       "  </tbody>\n",
       "</table>\n",
       "</div>"
      ],
      "text/plain": [
       "       Год основания  Годовая выручка  Количество сотрудников\n",
       "count    1000.000000     1.000000e+03             1000.000000\n",
       "mean     2005.195000     5.163602e+06              255.978000\n",
       "std         8.837708     2.886140e+06              139.048402\n",
       "min      1990.000000     1.068100e+05               11.000000\n",
       "25%      1998.000000     2.664074e+06              139.000000\n",
       "50%      2005.000000     5.221975e+06              252.500000\n",
       "75%      2013.000000     7.709056e+06              371.000000\n",
       "max      2020.000000     9.995027e+06              500.000000"
      ]
     },
     "execution_count": 46,
     "metadata": {},
     "output_type": "execute_result"
    }
   ],
   "source": [
    "df.describe()"
   ]
  },
  {
   "cell_type": "markdown",
   "id": "WyplL4POP-KR",
   "metadata": {
    "id": "WyplL4POP-KR"
   },
   "source": [
    "Рекомендуем вам так же изучить другие описательные функции для датафреймов - [почитать тут.](https://pandas.pydata.org/pandas-docs/stable/reference/frame.html#computations-descriptive-stats)"
   ]
  },
  {
   "cell_type": "markdown",
   "id": "d09c8359",
   "metadata": {
    "id": "d09c8359"
   },
   "source": [
    "<a id=\"chapter2\"></a>\n",
    "\n",
    "# Статистический анализ"
   ]
  },
  {
   "cell_type": "markdown",
   "id": "e3b76f2d",
   "metadata": {
    "id": "e3b76f2d"
   },
   "source": [
    "Теперь у тебя есть данные - можно приступать к их анализу.\n",
    "\n",
    "Ученик Андрей спланировал\n",
    "\n",
    "- Рассчитайте средние значения и медианы для каждой переменной.\n",
    "- Постройте гистограммы и оценки плотности для годовой выручки и количества сотрудников.\n",
    "- Вычислите корреляции между годом основания и годовой выручкой фирмы.\n",
    "- Выявите фирмы, которые считаются стартапами (фирмы, основанные после 2010 года, с выручкой менее 1,000,000 и менее чем 50 сотрудниками) и определите их процентное соотношение от общего числа фирм."
   ]
  },
  {
   "cell_type": "markdown",
   "id": "2f3a3dd2",
   "metadata": {
    "id": "2f3a3dd2"
   },
   "source": [
    "### Cредние значения и медианы"
   ]
  },
  {
   "cell_type": "markdown",
   "id": "cdfdd915",
   "metadata": {
    "id": "cdfdd915"
   },
   "source": [
    "Как считается среднее значение"
   ]
  },
  {
   "cell_type": "markdown",
   "id": "c4b23c9f",
   "metadata": {
    "id": "c4b23c9f"
   },
   "source": [
    "<center><img src=\"https://github.com/sunnysubmarines/nto/blob/main/images/fig_1.png?raw=1\" alt=\"Description of the image\" width=\"300\" height=\"300\"/></center>"
   ]
  },
  {
   "cell_type": "markdown",
   "id": "a03466bf",
   "metadata": {
    "id": "a03466bf"
   },
   "source": [
    "<center><img src=\"https://github.com/sunnysubmarines/nto/blob/main/images/fig_2.png?raw=1\" alt=\"Description of the image\" width=\"300\" height=\"300\"/></center>"
   ]
  },
  {
   "cell_type": "markdown",
   "id": "ba46bf56",
   "metadata": {
    "id": "ba46bf56"
   },
   "source": [
    "Как считается медиана"
   ]
  },
  {
   "cell_type": "markdown",
   "id": "87454dab",
   "metadata": {
    "id": "87454dab"
   },
   "source": [
    "<center><img src=\"https://github.com/sunnysubmarines/nto/blob/main/images/fig_3.png?raw=1\" alt=\"Description of the image\" width=\"400\" height=\"300\"/></center>"
   ]
  },
  {
   "cell_type": "markdown",
   "id": "37414c4e",
   "metadata": {
    "id": "37414c4e"
   },
   "source": [
    "<blockquote>Медиана — это значение, которое разделяет упорядоченный набор данных на две равные половины. Для расчета медианы в упорядоченном наборе данных, количество элементов которого нечетное, медиана - это значение, которое находится в середине упорядоченного списка. Если количество элементов четное, медиана - это среднее арифметическое двух центральных значений.\n",
    "\n",
    "Для набора данных X длиной n, где  n - нечетное число, медиана  M рассчитывается следующим образом: </blockquote>"
   ]
  },
  {
   "cell_type": "markdown",
   "id": "d42d893b",
   "metadata": {
    "id": "d42d893b"
   },
   "source": [
    "Если  n нечетное:"
   ]
  },
  {
   "cell_type": "markdown",
   "id": "63654aa8",
   "metadata": {
    "id": "63654aa8"
   },
   "source": [
    "$$\n",
    "M = X * (n+1)/2\n",
    "$$"
   ]
  },
  {
   "cell_type": "markdown",
   "id": "bbdcf9d6",
   "metadata": {
    "id": "bbdcf9d6"
   },
   "source": [
    "Если n четное:"
   ]
  },
  {
   "cell_type": "markdown",
   "id": "55e1d50a",
   "metadata": {
    "id": "55e1d50a"
   },
   "source": [
    "$$\n",
    "M = (X * n/2 + X(n/2 +1))/2\n",
    "$$"
   ]
  },
  {
   "cell_type": "markdown",
   "id": "4e8a6109",
   "metadata": {
    "id": "4e8a6109"
   },
   "source": [
    "Здесь  X(i) представляет собой  i-е значение в упорядоченном наборе данных  X."
   ]
  },
  {
   "cell_type": "markdown",
   "id": "c5fa6818",
   "metadata": {
    "id": "c5fa6818"
   },
   "source": [
    "**Пожалуйста, обратите внимание, что перед вычислением медианы набор данных обычно сортируется по возрастанию или убыванию.**"
   ]
  },
  {
   "cell_type": "markdown",
   "id": "dd666d14",
   "metadata": {},
   "source": [
    "<a id=\"task3\"></a>\n",
    "\n",
    "### Задача №3: Расчитайте среднее значение и медианное для всех колонок"
   ]
  },
  {
   "cell_type": "markdown",
   "id": "9e093ea0",
   "metadata": {},
   "source": [
    "<a id=\"solve3\"></a>\n",
    "<hr style=\"border:1px solid red;\">\n",
    "\n",
    "###  Решение "
   ]
  },
  {
   "cell_type": "code",
   "execution_count": 47,
   "id": "5cb1d049",
   "metadata": {
    "ExecuteTime": {
     "end_time": "2023-12-08T14:56:03.152249Z",
     "start_time": "2023-12-08T14:56:03.133683Z"
    }
   },
   "outputs": [
    {
     "name": "stdout",
     "output_type": "stream",
     "text": [
      "Средний год основания: 2005.195\n",
      "Средний доход: 5163601.686\n",
      "Среднее количество сотрудников: 255.978\n",
      "\n",
      "Медиана годов основания: 2005.0\n",
      "Медиана дохода: 5221975.0\n",
      "Медиана количества сотрудников: 252.5\n"
     ]
    }
   ],
   "source": [
    "years_mean, earnings_mean, workers_mean = df.mean()\n",
    "years_med, earnings_med, workers_med = df.median()\n",
    "print(f'Средний год основания: {years_mean}\\nСредний доход: {earnings_mean}\\nСреднее количество сотрудников: {workers_mean}\\n\\n'\n",
    "f'Медиана годов основания: {years_med}\\nМедиана дохода: {earnings_med}\\nМедиана количества сотрудников: {workers_med}')"
   ]
  },
  {
   "cell_type": "markdown",
   "id": "d82f8d71",
   "metadata": {},
   "source": [
    "<hr style=\"border:1px solid red;\">"
   ]
  },
  {
   "cell_type": "code",
   "execution_count": null,
   "id": "f0e51872",
   "metadata": {},
   "outputs": [],
   "source": []
  }
 ],
 "metadata": {
  "kernelspec": {
   "display_name": "Python 3 (ipykernel)",
   "language": "python",
   "name": "python3"
  },
  "language_info": {
   "codemirror_mode": {
    "name": "ipython",
    "version": 3
   },
   "file_extension": ".py",
   "mimetype": "text/x-python",
   "name": "python",
   "nbconvert_exporter": "python",
   "pygments_lexer": "ipython3",
   "version": "3.8.2"
  },
  "toc": {
   "base_numbering": 1,
   "nav_menu": {},
   "number_sections": true,
   "sideBar": true,
   "skip_h1_title": false,
   "title_cell": "Table of Contents",
   "title_sidebar": "Contents",
   "toc_cell": false,
   "toc_position": {},
   "toc_section_display": true,
   "toc_window_display": false
  }
 },
 "nbformat": 4,
 "nbformat_minor": 5
}
