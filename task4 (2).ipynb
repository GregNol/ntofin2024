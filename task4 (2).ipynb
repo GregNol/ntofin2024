{
 "cells": [
  {
   "cell_type": "markdown",
   "id": "83a81ad0",
   "metadata": {},
   "source": [
    "<a id=\"chapter6\"></a>\n",
    "\n",
    "# Интерфейсы и база данных"
   ]
  },
  {
   "cell_type": "markdown",
   "id": "100722ce",
   "metadata": {},
   "source": [
    "Для визуализации данных удобно сохранить все данные в базе данных (к примеру, sqllite)"
   ]
  },
  {
   "cell_type": "code",
   "execution_count": 38,
   "id": "f6e4ee91",
   "metadata": {},
   "outputs": [],
   "source": [
    "import pandas as pd\n",
    "\n",
    "url = \"https://raw.githubusercontent.com/jbrownlee/Datasets/master/daily-min-temperatures.csv\"\n",
    "df = pd.read_csv(url)"
   ]
  },
  {
   "cell_type": "code",
   "execution_count": 39,
   "id": "790a77cd",
   "metadata": {},
   "outputs": [],
   "source": [
    "from sqlite3 import connect"
   ]
  },
  {
   "cell_type": "code",
   "execution_count": 40,
   "id": "30a658a5",
   "metadata": {},
   "outputs": [],
   "source": [
    "conn = connect('data.db')  "
   ]
  },
  {
   "cell_type": "code",
   "execution_count": 41,
   "id": "c74addc6",
   "metadata": {},
   "outputs": [
    {
     "data": {
      "text/html": [
       "<div>\n",
       "<style scoped>\n",
       "    .dataframe tbody tr th:only-of-type {\n",
       "        vertical-align: middle;\n",
       "    }\n",
       "\n",
       "    .dataframe tbody tr th {\n",
       "        vertical-align: top;\n",
       "    }\n",
       "\n",
       "    .dataframe thead th {\n",
       "        text-align: right;\n",
       "    }\n",
       "</style>\n",
       "<table border=\"1\" class=\"dataframe\">\n",
       "  <thead>\n",
       "    <tr style=\"text-align: right;\">\n",
       "      <th></th>\n",
       "      <th>Date</th>\n",
       "      <th>Temp</th>\n",
       "    </tr>\n",
       "  </thead>\n",
       "  <tbody>\n",
       "    <tr>\n",
       "      <th>0</th>\n",
       "      <td>1981-01-01</td>\n",
       "      <td>20.7</td>\n",
       "    </tr>\n",
       "    <tr>\n",
       "      <th>1</th>\n",
       "      <td>1981-01-02</td>\n",
       "      <td>17.9</td>\n",
       "    </tr>\n",
       "    <tr>\n",
       "      <th>2</th>\n",
       "      <td>1981-01-03</td>\n",
       "      <td>18.8</td>\n",
       "    </tr>\n",
       "    <tr>\n",
       "      <th>3</th>\n",
       "      <td>1981-01-04</td>\n",
       "      <td>14.6</td>\n",
       "    </tr>\n",
       "    <tr>\n",
       "      <th>4</th>\n",
       "      <td>1981-01-05</td>\n",
       "      <td>15.8</td>\n",
       "    </tr>\n",
       "  </tbody>\n",
       "</table>\n",
       "</div>"
      ],
      "text/plain": [
       "         Date  Temp\n",
       "0  1981-01-01  20.7\n",
       "1  1981-01-02  17.9\n",
       "2  1981-01-03  18.8\n",
       "3  1981-01-04  14.6\n",
       "4  1981-01-05  15.8"
      ]
     },
     "execution_count": 41,
     "metadata": {},
     "output_type": "execute_result"
    }
   ],
   "source": [
    "df.head()"
   ]
  },
  {
   "cell_type": "markdown",
   "id": "a729c95a",
   "metadata": {},
   "source": [
    "<a id=\"task12\"></a>\n",
    "\n",
    "### Задача №12. Сохранить таблицу в базе данных"
   ]
  },
  {
   "cell_type": "markdown",
   "id": "8ea6bc86",
   "metadata": {},
   "source": [
    "Сохранить данные о погоде в таблицу ```weater``` базы данных sqlite\n",
    "\n",
    "Для удобства работы можно выделить только дату из поля ```date_only```"
   ]
  },
  {
   "cell_type": "code",
   "execution_count": 42,
   "id": "92b345c4",
   "metadata": {},
   "outputs": [],
   "source": [
    "df['date_only'] = pd.to_datetime(df['Date'])"
   ]
  },
  {
   "cell_type": "markdown",
   "id": "4b20d69b",
   "metadata": {},
   "source": [
    "<hr style=\"border:1px solid red;\">\n",
    "<a id='solve12'></a>\n",
    "\n",
    "###  Решение "
   ]
  },
  {
   "cell_type": "code",
   "execution_count": 2,
   "id": "2a2607f3",
   "metadata": {},
   "outputs": [],
   "source": [
    "# тут ваше решение"
   ]
  },
  {
   "cell_type": "markdown",
   "id": "40d163a7",
   "metadata": {},
   "source": [
    "<hr style=\"border:1px solid red;\">"
   ]
  },
  {
   "cell_type": "markdown",
   "id": "f6d4009a",
   "metadata": {},
   "source": [
    "Проверяем корректность работы"
   ]
  },
  {
   "cell_type": "code",
   "execution_count": 44,
   "id": "3df8cb55",
   "metadata": {},
   "outputs": [],
   "source": [
    "query = '''                  \n",
    "\tSELECT * FROM weather\n",
    "'''"
   ]
  },
  {
   "cell_type": "code",
   "execution_count": 45,
   "id": "02e08c28",
   "metadata": {},
   "outputs": [
    {
     "data": {
      "text/html": [
       "<div>\n",
       "<style scoped>\n",
       "    .dataframe tbody tr th:only-of-type {\n",
       "        vertical-align: middle;\n",
       "    }\n",
       "\n",
       "    .dataframe tbody tr th {\n",
       "        vertical-align: top;\n",
       "    }\n",
       "\n",
       "    .dataframe thead th {\n",
       "        text-align: right;\n",
       "    }\n",
       "</style>\n",
       "<table border=\"1\" class=\"dataframe\">\n",
       "  <thead>\n",
       "    <tr style=\"text-align: right;\">\n",
       "      <th></th>\n",
       "      <th>Date</th>\n",
       "      <th>Temp</th>\n",
       "      <th>date_only</th>\n",
       "    </tr>\n",
       "  </thead>\n",
       "  <tbody>\n",
       "    <tr>\n",
       "      <th>0</th>\n",
       "      <td>1981-01-01</td>\n",
       "      <td>20.7</td>\n",
       "      <td>1981-01-01 00:00:00</td>\n",
       "    </tr>\n",
       "    <tr>\n",
       "      <th>1</th>\n",
       "      <td>1981-01-02</td>\n",
       "      <td>17.9</td>\n",
       "      <td>1981-01-02 00:00:00</td>\n",
       "    </tr>\n",
       "    <tr>\n",
       "      <th>2</th>\n",
       "      <td>1981-01-03</td>\n",
       "      <td>18.8</td>\n",
       "      <td>1981-01-03 00:00:00</td>\n",
       "    </tr>\n",
       "    <tr>\n",
       "      <th>3</th>\n",
       "      <td>1981-01-04</td>\n",
       "      <td>14.6</td>\n",
       "      <td>1981-01-04 00:00:00</td>\n",
       "    </tr>\n",
       "    <tr>\n",
       "      <th>4</th>\n",
       "      <td>1981-01-05</td>\n",
       "      <td>15.8</td>\n",
       "      <td>1981-01-05 00:00:00</td>\n",
       "    </tr>\n",
       "    <tr>\n",
       "      <th>...</th>\n",
       "      <td>...</td>\n",
       "      <td>...</td>\n",
       "      <td>...</td>\n",
       "    </tr>\n",
       "    <tr>\n",
       "      <th>3645</th>\n",
       "      <td>1990-12-27</td>\n",
       "      <td>14.0</td>\n",
       "      <td>1990-12-27 00:00:00</td>\n",
       "    </tr>\n",
       "    <tr>\n",
       "      <th>3646</th>\n",
       "      <td>1990-12-28</td>\n",
       "      <td>13.6</td>\n",
       "      <td>1990-12-28 00:00:00</td>\n",
       "    </tr>\n",
       "    <tr>\n",
       "      <th>3647</th>\n",
       "      <td>1990-12-29</td>\n",
       "      <td>13.5</td>\n",
       "      <td>1990-12-29 00:00:00</td>\n",
       "    </tr>\n",
       "    <tr>\n",
       "      <th>3648</th>\n",
       "      <td>1990-12-30</td>\n",
       "      <td>15.7</td>\n",
       "      <td>1990-12-30 00:00:00</td>\n",
       "    </tr>\n",
       "    <tr>\n",
       "      <th>3649</th>\n",
       "      <td>1990-12-31</td>\n",
       "      <td>13.0</td>\n",
       "      <td>1990-12-31 00:00:00</td>\n",
       "    </tr>\n",
       "  </tbody>\n",
       "</table>\n",
       "<p>3650 rows × 3 columns</p>\n",
       "</div>"
      ],
      "text/plain": [
       "            Date  Temp            date_only\n",
       "0     1981-01-01  20.7  1981-01-01 00:00:00\n",
       "1     1981-01-02  17.9  1981-01-02 00:00:00\n",
       "2     1981-01-03  18.8  1981-01-03 00:00:00\n",
       "3     1981-01-04  14.6  1981-01-04 00:00:00\n",
       "4     1981-01-05  15.8  1981-01-05 00:00:00\n",
       "...          ...   ...                  ...\n",
       "3645  1990-12-27  14.0  1990-12-27 00:00:00\n",
       "3646  1990-12-28  13.6  1990-12-28 00:00:00\n",
       "3647  1990-12-29  13.5  1990-12-29 00:00:00\n",
       "3648  1990-12-30  15.7  1990-12-30 00:00:00\n",
       "3649  1990-12-31  13.0  1990-12-31 00:00:00\n",
       "\n",
       "[3650 rows x 3 columns]"
      ]
     },
     "execution_count": 45,
     "metadata": {},
     "output_type": "execute_result"
    }
   ],
   "source": [
    "df_sql = pd.read_sql(query, conn)\n",
    "df_sql"
   ]
  },
  {
   "cell_type": "markdown",
   "id": "e262732e",
   "metadata": {},
   "source": [
    "<a id=\"task13\"></a>\n",
    "\n",
    "### Задача №13. Реализации интерфейса для пользователя"
   ]
  },
  {
   "cell_type": "markdown",
   "id": "46c4bbf0",
   "metadata": {},
   "source": [
    "В этой задаче вам потребуются бибоиотеки ```ipywidgets``` и ```IPython.display```"
   ]
  },
  {
   "cell_type": "code",
   "execution_count": 46,
   "id": "505d619b",
   "metadata": {},
   "outputs": [],
   "source": [
    "import ipywidgets as widgets\n",
    "from IPython.display import display, clear_output"
   ]
  },
  {
   "cell_type": "markdown",
   "id": "fed6a4ec",
   "metadata": {},
   "source": [
    "Так же нужна будет функция для выбора данных по дате"
   ]
  },
  {
   "cell_type": "code",
   "execution_count": 47,
   "id": "fc2937dc",
   "metadata": {},
   "outputs": [],
   "source": [
    "cursor = conn.cursor()\n",
    "def get_weather_info(date):\n",
    "    query = f\"SELECT Temp FROM weather WHERE date_only = '{date}'\"\n",
    "    result = cursor.execute(query).fetchall()\n",
    "    if result:\n",
    "        return result[0][0]\n",
    "    return \"No data\""
   ]
  },
  {
   "cell_type": "markdown",
   "id": "dc6432b8",
   "metadata": {},
   "source": [
    "Ваша задача, используя бибилиотеку ```ipywidgets``` нарисовать интерфейс, который показан на рисунке"
   ]
  },
  {
   "cell_type": "markdown",
   "id": "28b28b9b",
   "metadata": {},
   "source": [
    "<center><img src=\"./images/fig_weather_date.png\" alt=\"Description of the image\" width=\"400\" height=\"300\"/></center>"
   ]
  },
  {
   "cell_type": "markdown",
   "id": "09062c0c",
   "metadata": {},
   "source": [
    "<hr style=\"border:1px solid red;\">\n",
    "<a id='solve13'></a>\n",
    "\n",
    "###  Решение "
   ]
  },
  {
   "cell_type": "code",
   "execution_count": 3,
   "id": "37728eda",
   "metadata": {},
   "outputs": [],
   "source": [
    "# тут ваше решение"
   ]
  },
  {
   "cell_type": "markdown",
   "id": "4aa5021a",
   "metadata": {},
   "source": [
    "<hr style=\"border:1px solid red;\">"
   ]
  },
  {
   "cell_type": "markdown",
   "id": "27579528",
   "metadata": {},
   "source": [
    "### Задача №14. Разарботка API"
   ]
  },
  {
   "cell_type": "markdown",
   "id": "02bc169c",
   "metadata": {},
   "source": [
    "Для работы вам потребуется flask или любой другой фреймворк"
   ]
  },
  {
   "cell_type": "markdown",
   "id": "5a7268b0",
   "metadata": {},
   "source": [
    "Разработайте REST сервис:\n",
    "\n",
    "    - GET /weather/<date> : врзвращает темепературу по дате.\n",
    "    \n",
    "    - GET /all : возвращает все даннные из набора\n",
    "    \n",
    "    - GET /create/1981-01-01/31.5 : добавляет показания в базу данных\n",
    "    \n",
    "    - POST /delete/1981-01-01 : удаляет все записи на эту дату\n",
    "    \n",
    "    - GET /middle/1981-01-01/1983-01-01 : возвращает средюю и медианную температуру за период\n",
    "    \n",
    "    - GET /page/1 : возвращает первые 20 записей; /page/2 - записи с 21 по 40 и так делее.."
   ]
  },
  {
   "cell_type": "markdown",
   "id": "9b7f727f",
   "metadata": {},
   "source": [
    "Все ответы должны приходить в валидном JSON формате"
   ]
  }
 ],
 "metadata": {
  "kernelspec": {
   "display_name": "Python 3",
   "language": "python",
   "name": "python3"
  },
  "language_info": {
   "codemirror_mode": {
    "name": "ipython",
    "version": 3
   },
   "file_extension": ".py",
   "mimetype": "text/x-python",
   "name": "python",
   "nbconvert_exporter": "python",
   "pygments_lexer": "ipython3",
   "version": "3.8.8"
  }
 },
 "nbformat": 4,
 "nbformat_minor": 5
}
